{
 "cells": [
  {
   "cell_type": "code",
   "execution_count": 1,
   "metadata": {},
   "outputs": [],
   "source": [
    "# Add utils libraries to program \n",
    "import sys\n",
    "sys.path.append('/home/class_NI2021/ctxctl_contrib_2023')\n",
    "\n",
    "# Imports all necessary libraries (samna and utils)\n",
    "import samna\n",
    "import samna.dynapse1 as dyn1\n",
    "from dynapse1constants import *\n",
    "import dynapse1utils as ut\n",
    "import netgen as n\n",
    "import params\n",
    "import time\n",
    "import math\n",
    "import numpy as np"
   ]
  },
  {
   "cell_type": "code",
   "execution_count": 2,
   "metadata": {},
   "outputs": [
    {
     "name": "stdout",
     "output_type": "stream",
     "text": [
      "[0]:  Bus 1 Device 119 Dynapse1DevKit serial_number 00000011\n",
      "[1]:  Bus 1 Device 118 Dynapse1DevKit serial_number 00000000\n"
     ]
    }
   ],
   "source": [
    "# Check which dynapse are free\n",
    "devices = samna.device.get_unopened_devices()\n",
    "for i in range(len(devices)):\n",
    "        print(\"[\"+str(i)+\"]: \", devices[i], \"serial_number\", devices[i].serial_number)"
   ]
  },
  {
   "cell_type": "code",
   "execution_count": 3,
   "metadata": {},
   "outputs": [
    {
     "name": "stdout",
     "output_type": "stream",
     "text": [
      "[0]:  Bus 1 Device 119 Dynapse1DevKit serial_number 00000011\n",
      "[1]:  Bus 1 Device 118 Dynapse1DevKit serial_number 00000000\n",
      "Sender port: tcp://0.0.0.0:17349\n",
      "Receiver port: tcp://0.0.0.0:15347\n",
      "Opened device name: Dynapse1DevKit\n",
      "SamnaNode ID: 1\n",
      "PythonNode ID: 2\n"
     ]
    }
   ],
   "source": [
    "# Open DYNAP-SE1 board selected (by ports) and get Dynapse1Model, without GUI (GUI = False)\n",
    "model, _ = ut.open_dynapse1(gui=False, sender_port=17349, receiver_port=15347, select_device=True) # dynapse = 11"
   ]
  },
  {
   "cell_type": "code",
   "execution_count": 30,
   "metadata": {},
   "outputs": [],
   "source": [
    "# Needed functions\n",
    "def get_bin_representation(input_ids):\n",
    "    binary_ids = []\n",
    "    max_num_digits = 0\n",
    "    # Create a copy of input neurons ids to reverse and begin with the bigger one\n",
    "    neurons_id = input_ids.copy()\n",
    "    neurons_id.reverse()\n",
    "    # For each neuron id\n",
    "    for id in neurons_id:\n",
    "        res = id\n",
    "        binary_id = []\n",
    "        # Calculate the binary representation\n",
    "        while res > 1:\n",
    "            binary_id.append(res % 2)\n",
    "            res = res // 2\n",
    "        if res == 0:\n",
    "            binary_id.append(0)\n",
    "        else:\n",
    "            binary_id.append(1)\n",
    "        # Adjust all binary representations to the number with the max number of digits\n",
    "        if max_num_digits == 0:\n",
    "            max_num_digits = len(binary_id)\n",
    "        elif max_num_digits > len(binary_id):\n",
    "            diff = max_num_digits - len(binary_id)\n",
    "            for i in range(diff):\n",
    "                binary_id.append(0)\n",
    "        # Store the binary representation, the first element is the less significative and the last is the most significative (reverse the original representation)\n",
    "        binary_ids.append(binary_id)\n",
    "    binary_ids.reverse()\n",
    "    return binary_ids\n",
    "\n",
    "def get_syn_ca1(input_neuron_ids):\n",
    "    # Get binary representation\n",
    "    binary_ids = get_bin_representation(input_neuron_ids)\n",
    "    pre_exc_syn = []\n",
    "    post_exc_syn = []\n",
    "    # Get pre and post exc synapses from binary representation\n",
    "    for pre, binary_id in enumerate(binary_ids):\n",
    "        for post, id in enumerate(binary_id):\n",
    "            if id == 1:\n",
    "                pre_exc_syn.append(pre)\n",
    "                post_exc_syn.append(post)\n",
    "\n",
    "    return pre_exc_syn, post_exc_syn"
   ]
  },
  {
   "cell_type": "code",
   "execution_count": 31,
   "metadata": {},
   "outputs": [],
   "source": [
    "# Initialization of all parameters\n",
    "paramGroup = params.gen_clean_param_group()\n",
    "for chip in range(4):\n",
    "    for core in range(4):\n",
    "        model.update_parameter_group(paramGroup, chip, core)"
   ]
  },
  {
   "cell_type": "code",
   "execution_count": 32,
   "metadata": {},
   "outputs": [],
   "source": [
    "#   0 = 3 - 2 decoder\n",
    "#   1 = 7 - 3 decoder\n",
    "exp_id = 1\n",
    "\n",
    "# To create a network:\n",
    "#   1) Create populations of neurons (chip id, core id, neurons id, generator?)\n",
    "#       Decoder 7 input - CA1 pop - 3 output\n",
    "#       - Spike generator populations \n",
    "if exp_id == 0:\n",
    "    generator_neuron_ids = [1, 2, 3]\n",
    "elif exp_id == 1:\n",
    "    generator_neuron_ids = [1, 2, 3, 4, 5, 6, 7]\n",
    "spikegen_pop = n.NeuronGroup(0 ,0, generator_neuron_ids, True)\n",
    "#       - DPI neuron populations\n",
    "ca1_pop_chip = 0\n",
    "ca1_pop_core = 1\n",
    "if exp_id == 0:\n",
    "    ca1_neuron_ids = [12, 13]\n",
    "elif exp_id == 1:\n",
    "    ca1_neuron_ids = [12, 13, 14]\n",
    "ca1_pop = n.NeuronGroup(ca1_pop_chip , ca1_pop_core, ca1_neuron_ids, False)\n",
    "\n",
    "\n",
    "#   2) Create the network configuration for Dynapse (based on populations created and used to add synapses between them)\n",
    "net_gen = n.NetworkGenerator()\n",
    "\n",
    "#   3) Add synapses\n",
    "#       - Calculate the excitatory and inhibitory synapses\n",
    "pre_exc_syn, post_exc_syn = get_syn_ca1(generator_neuron_ids)\n",
    "#       - gen-ca1 -> excitatory\n",
    "net_gen.add_connections_from_list(spikegen_pop.neurons, ca1_pop.neurons, dyn1.Dynapse1SynType.AMPA, pre_ids = pre_exc_syn, post_ids = post_exc_syn)"
   ]
  },
  {
   "cell_type": "code",
   "execution_count": 33,
   "metadata": {},
   "outputs": [
    {
     "name": "stdout",
     "output_type": "stream",
     "text": [
      "- Network: \n",
      "Post neuron (ChipId,coreId,neuronId): incoming connections [(preNeuron,synapseType), ...]\n",
      "C0c1n12: [('C0c0s1', 'AMPA'), ('C0c0s3', 'AMPA'), ('C0c0s5', 'AMPA'), ('C0c0s7', 'AMPA')]\n",
      "C0c1n13: [('C0c0s2', 'AMPA'), ('C0c0s3', 'AMPA'), ('C0c0s6', 'AMPA'), ('C0c0s7', 'AMPA')]\n",
      "C0c1n14: [('C0c0s4', 'AMPA'), ('C0c0s5', 'AMPA'), ('C0c0s6', 'AMPA'), ('C0c0s7', 'AMPA')]\n",
      "\n"
     ]
    }
   ],
   "source": [
    "print(\"- Network: \")\n",
    "print(net_gen.network)"
   ]
  },
  {
   "cell_type": "code",
   "execution_count": 34,
   "metadata": {},
   "outputs": [],
   "source": [
    "# Create configuration based on network created (if not valid raise an exception and close the device)\n",
    "config = net_gen.make_dynapse1_configuration()\n",
    "\n",
    "# Apply configuration\n",
    "model.apply_configuration(config)"
   ]
  },
  {
   "cell_type": "code",
   "execution_count": 35,
   "metadata": {},
   "outputs": [],
   "source": [
    "# Initialize custom parameters for a core and a chip:\n",
    "paramGroup = dyn1.Dynapse1ParameterGroup() \n",
    "\n",
    "# PRE CORE\n",
    "#   * coarse_value: to tune the parameters in a coarse way\n",
    "#   * fine_value: to tune the parameters in a fine way\n",
    "#   * param_name \n",
    "#       - Neuron:\n",
    "#           * THR (IF_THR_N): the gain factor of neuron\n",
    "paramGroup.param_map[\"IF_THR_N\"].coarse_value = 5\n",
    "paramGroup.param_map[\"IF_THR_N\"].fine_value = 100\n",
    "#           * RFR (IF_RFR_N): refractory period\n",
    "paramGroup.param_map[\"IF_RFR_N\"].coarse_value = 7\n",
    "paramGroup.param_map[\"IF_RFR_N\"].fine_value = 255\n",
    "#           * TAU1 (IF_TAU1_N) and TAU2 (IF_TAU2_N): the membrane time-constant of leakage current or how much current is constantly leaked away\n",
    "paramGroup.param_map[\"IF_TAU1_N\"].coarse_value = 3\n",
    "paramGroup.param_map[\"IF_TAU1_N\"].fine_value = 15\n",
    "#           * DC (IF_DC_P): injection of constant current\n",
    "paramGroup.param_map[\"IF_DC_P\"].coarse_value = 0\n",
    "paramGroup.param_map[\"IF_DC_P\"].fine_value = 0\n",
    "#       - Synapses:\n",
    "#           - AMPA (IE_F_P): Fast excitatory synapses\n",
    "#               * TAU (NPDPIE_TAU_F_P or NPDPII_TAU_F_P)\n",
    "paramGroup.param_map[\"NPDPIE_TAU_F_P\"].coarse_value = 4\n",
    "paramGroup.param_map[\"NPDPIE_TAU_F_P\"].fine_value =  80\n",
    "#               * THR (NPDPIE_THR_F_P or NPDPII_THR_F_P)\n",
    "paramGroup.param_map[\"NPDPIE_THR_F_P\"].coarse_value = 4\n",
    "paramGroup.param_map[\"NPDPIE_THR_F_P\"].fine_value =  80 \n",
    "#               * WEIGHT (PS_WEIGHT_EXC_F_N or PS_WEIGHT_INH_F_N)\n",
    "paramGroup.param_map[\"PS_WEIGHT_EXC_F_N\"].coarse_value = 7\n",
    "paramGroup.param_map[\"PS_WEIGHT_EXC_F_N\"].fine_value = 255 \n",
    "\n",
    "# Apply the custom parameters to the core\n",
    "model.update_parameter_group(paramGroup, ca1_pop.chip_id, ca1_pop.core_id)"
   ]
  },
  {
   "cell_type": "code",
   "execution_count": 36,
   "metadata": {},
   "outputs": [],
   "source": [
    "\"\"\"\n",
    "Experiments:\n",
    "    0 - test with ladder input\n",
    "\"\"\"\n",
    "experiment = 0\n",
    "\n",
    "# Create the generator of spikes: set_fpga_spike_gen(*)\n",
    "#   * generator object\n",
    "fpga_spike_gen = model.get_fpga_spike_gen()\n",
    "#   * list of input spikes in seconds = spike list\n",
    "if experiment == 0:\n",
    "    num_rep = 5\n",
    "    if exp_id == 0:\n",
    "        spike_time_list = np.sort(np.concatenate((np.linspace(0, 0.005, num_rep), np.linspace(0.1, 0.105, num_rep),\n",
    "                                    np.linspace(0.2, 0.205, num_rep)), axis=None), axis=None)\n",
    "        time_to_last_spike = 0.205\n",
    "        total_time = 1\n",
    "    elif exp_id == 1:\n",
    "        spike_time_list = np.sort(np.concatenate((np.linspace(0, 0.005, num_rep),\n",
    "                                    np.linspace(0.1, 0.105, num_rep),\n",
    "                                    np.linspace(0.2, 0.205, num_rep),\n",
    "                                    np.linspace(0.3, 0.305, num_rep),\n",
    "                                    np.linspace(0.4, 0.405, num_rep),\n",
    "                                    np.linspace(0.5, 0.505, num_rep),\n",
    "                                    np.linspace(0.6, 0.605, num_rep)), axis=None), axis=None)\n",
    "        time_to_last_spike = 0.605\n",
    "        total_time = 1\n",
    "else:\n",
    "    spike_time_list = []\n",
    "    time_to_last_spike = 0\n",
    "#   * list of generator neuron ids (one element per spike in spike list)\n",
    "if experiment == 0:\n",
    "    if exp_id == 0:\n",
    "        gen_neuron_ids = ([1]*(num_rep) + [2]*(num_rep) + [3]*(num_rep))\n",
    "    elif exp_id == 1:\n",
    "        gen_neuron_ids = ([1]*(num_rep) + [2]*(num_rep) + [3]*(num_rep) \n",
    "                        + [4]*(num_rep) + [5]*(num_rep) + [6]*(num_rep)\n",
    "                        + [7]*(num_rep))\n",
    "else:\n",
    "    gen_neuron_ids = []\n",
    "#   * list of chips where the post neurons are (one element per spike in spike list)\n",
    "if experiment >= 0 and experiment <= 4:\n",
    "    post_neuron_chips = [0]*len(spike_time_list)\n",
    "else:\n",
    "    post_neuron_chips = []\n",
    "#   * isi_base = 90 or 900, scaled the inter spike interval for 1 or 10 us\n",
    "isi_base = 900\n",
    "#   * repeat_mode = loop on the spikes sends when finish the list\n",
    "repeat_mode = False\n",
    "# Set up the generator\n",
    "ut.set_fpga_spike_gen(fpga_spike_gen, spike_time_list, gen_neuron_ids, post_neuron_chips, isi_base, repeat_mode)"
   ]
  },
  {
   "cell_type": "code",
   "execution_count": 37,
   "metadata": {},
   "outputs": [
    {
     "name": "stdout",
     "output_type": "stream",
     "text": [
      "[0.      0.00125 0.0025  0.00375 0.005   0.1     0.10125 0.1025  0.10375\n",
      " 0.105   0.2     0.20125 0.2025  0.20375 0.205   0.3     0.30125 0.3025\n",
      " 0.30375 0.305   0.4     0.40125 0.4025  0.40375 0.405   0.5     0.50125\n",
      " 0.5025  0.50375 0.505   0.6     0.60125 0.6025  0.60375 0.605  ]\n",
      "[1, 1, 1, 1, 1, 2, 2, 2, 2, 2, 3, 3, 3, 3, 3, 4, 4, 4, 4, 4, 5, 5, 5, 5, 5, 6, 6, 6, 6, 6, 7, 7, 7, 7, 7]\n"
     ]
    }
   ],
   "source": [
    "if len(spike_time_list) < 50:\n",
    "    print(spike_time_list)\n",
    "    print(gen_neuron_ids)\n",
    "else:\n",
    "    print(len(spike_time_list))\n",
    "    print(len(gen_neuron_ids))"
   ]
  },
  {
   "cell_type": "code",
   "execution_count": 38,
   "metadata": {},
   "outputs": [
    {
     "data": {
      "text/plain": [
       "True"
      ]
     },
     "execution_count": 38,
     "metadata": {},
     "output_type": "execute_result"
    }
   ],
   "source": [
    "# Get spikes of dynapse:\n",
    "#   - Select the neurons to monitor\n",
    "monitored_neurons = ca1_pop.tuple_neuron_ids\n",
    "graph, filter_node, sink_node = ut.create_neuron_select_graph(model, monitored_neurons)\n",
    "#   - Start recording in graph\n",
    "graph.start()\n",
    "#   - Clear the buffer of input spike\n",
    "sink_node.get_events()\n",
    "#   - Start the spike generator\n",
    "fpga_spike_gen.start()\n",
    "#   - Wait to get events in buffer\n",
    "time.sleep(time_to_last_spike)\n",
    "fpga_spike_gen.stop()\n",
    "time.sleep(total_time-time_to_last_spike)\n",
    "#   - Get events from buffer\n",
    "events = sink_node.get_events()\n",
    "#   - Stop graph and generator\n",
    "graph.stop()"
   ]
  },
  {
   "cell_type": "code",
   "execution_count": 39,
   "metadata": {},
   "outputs": [
    {
     "name": "stdout",
     "output_type": "stream",
     "text": [
      "- Events: 61\n"
     ]
    }
   ],
   "source": [
    "print(\"- Events: \" + str(len(events)))\n",
    "timestamp_offset = 0\n",
    "events_timestamp = []\n",
    "events_neuron_id = []\n",
    "for event in events:\n",
    "    if timestamp_offset == 0:\n",
    "        timestamp_offset = event.timestamp\n",
    "    # Get timestamp of event in ms from first spike\n",
    "    timestamp_format_ms = (event.timestamp - timestamp_offset) * 1e-3\n",
    "    # Round to up if >= x.5\n",
    "    if timestamp_format_ms - int(timestamp_format_ms) >= 0.5:\n",
    "        timestamp_format_ms = int(timestamp_format_ms) + 1\n",
    "    else:\n",
    "        timestamp_format_ms = int(timestamp_format_ms)\n",
    "    # Print info\n",
    "    if len(events) < 30:\n",
    "        print(\"  * id=\" + str(event.neuron_id) + \" t=\" + str(timestamp_format_ms) + \" ms\")\n",
    "    events_timestamp.append(timestamp_format_ms)\n",
    "    events_neuron_id.append(event.neuron_id)"
   ]
  },
  {
   "cell_type": "code",
   "execution_count": 40,
   "metadata": {},
   "outputs": [
    {
     "data": {
      "image/png": "[encoded data removed]",
      "text/plain": [
       "<Figure size 1080x864 with 1 Axes>"
      ]
     },
     "metadata": {},
     "output_type": "display_data"
    }
   ],
   "source": [
    "#if not(experiment == 5):\n",
    "# Plot the spikes events in time \n",
    "import matplotlib.pyplot as plt\n",
    "\n",
    "plt.figure(figsize=(15,12))\n",
    "#plt.ylim([0, 40])\n",
    "plt.yticks(list(set(events_neuron_id)))\n",
    "#plt.xticks(list(set(events_timestamp)))\n",
    "#plt.xlim([-5, 15])\n",
    "\n",
    "plt.xlabel(\"Time (ms)\")\n",
    "plt.ylabel(\"Neuron spikes\")\n",
    "plt.rcParams['figure.facecolor'] = 'white'\n",
    "plt.rcParams['axes.facecolor'] = 'white'\n",
    "plt.rcParams['axes.edgecolor'] = 'black'\n",
    "plt.plot(events_timestamp, events_neuron_id,\"o\")\n",
    "plt.savefig(\"results/decoder.png\", bbox_inches='tight')\n",
    "plt.show()"
   ]
  },
  {
   "cell_type": "code",
   "execution_count": 42,
   "metadata": {},
   "outputs": [],
   "source": [
    "# Close the device\n",
    "close = False\n",
    "if close:\n",
    "    samna.device.close_device(model)"
   ]
  }
 ],
 "metadata": {
  "kernelspec": {
   "display_name": "Python 3",
   "language": "python",
   "name": "python3"
  },
  "language_info": {
   "codemirror_mode": {
    "name": "ipython",
    "version": 3
   },
   "file_extension": ".py",
   "mimetype": "text/x-python",
   "name": "python",
   "nbconvert_exporter": "python",
   "pygments_lexer": "ipython3",
   "version": "3.8.10"
  },
  "orig_nbformat": 4
 },
 "nbformat": 4,
 "nbformat_minor": 2
}
